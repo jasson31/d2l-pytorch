{
 "cells": [
  {
   "cell_type": "markdown",
   "metadata": {
    "colab_type": "text",
    "id": "IYw0k9Ixvxwx"
   },
   "source": [
    "<center>Jaemin Son, 2018320192</center><br>"
   ]
  },
  {
   "cell_type": "markdown",
   "metadata": {
    "colab_type": "text",
    "id": "KI-GCERd1qQz"
   },
   "source": [
    "# Getting Started"
   ]
  },
  {
   "cell_type": "code",
   "execution_count": 1,
   "metadata": {
    "colab": {
     "base_uri": "https://localhost:8080/",
     "height": 53
    },
    "colab_type": "code",
    "executionInfo": {
     "elapsed": 1197,
     "status": "ok",
     "timestamp": 1599644158082,
     "user": {
      "displayName": "손재민",
      "photoUrl": "https://lh6.googleusercontent.com/-gYzH61XbODk/AAAAAAAAAAI/AAAAAAAAAJ4/pjkH85qT8RM/s64/photo.jpg",
      "userId": "01926449909610052632"
     },
     "user_tz": -540
    },
    "id": "XAHj5mVDvqEP",
    "outputId": "20807740-1ba8-4d1a-89f9-909cc93869ed"
   },
   "outputs": [
    {
     "data": {
      "text/plain": [
       "tensor([ 0.,  1.,  2.,  3.,  4.,  5.,  6.,  7.,  8.,  9., 10., 11.],\n",
       "       dtype=torch.float64)"
      ]
     },
     "execution_count": 1,
     "metadata": {},
     "output_type": "execute_result"
    }
   ],
   "source": [
    "import torch\n",
    "x = torch.arange(12, dtype=torch.float64)\n",
    "x"
   ]
  },
  {
   "cell_type": "code",
   "execution_count": 2,
   "metadata": {
    "colab": {
     "base_uri": "https://localhost:8080/",
     "height": 35
    },
    "colab_type": "code",
    "executionInfo": {
     "elapsed": 1670,
     "status": "ok",
     "timestamp": 1599644158570,
     "user": {
      "displayName": "손재민",
      "photoUrl": "https://lh6.googleusercontent.com/-gYzH61XbODk/AAAAAAAAAAI/AAAAAAAAAJ4/pjkH85qT8RM/s64/photo.jpg",
      "userId": "01926449909610052632"
     },
     "user_tz": -540
    },
    "id": "LJyNOdSq13yd",
    "outputId": "e8ffdec6-c4ef-4c60-d337-139eed878348"
   },
   "outputs": [
    {
     "data": {
      "text/plain": [
       "torch.Size([12])"
      ]
     },
     "execution_count": 2,
     "metadata": {},
     "output_type": "execute_result"
    }
   ],
   "source": [
    "x.shape"
   ]
  },
  {
   "cell_type": "code",
   "execution_count": 3,
   "metadata": {
    "colab": {
     "base_uri": "https://localhost:8080/",
     "height": 35
    },
    "colab_type": "code",
    "executionInfo": {
     "elapsed": 1655,
     "status": "ok",
     "timestamp": 1599644158570,
     "user": {
      "displayName": "손재민",
      "photoUrl": "https://lh6.googleusercontent.com/-gYzH61XbODk/AAAAAAAAAAI/AAAAAAAAAJ4/pjkH85qT8RM/s64/photo.jpg",
      "userId": "01926449909610052632"
     },
     "user_tz": -540
    },
    "id": "p1I1ShCR17C-",
    "outputId": "12743539-0177-4a48-999d-a084984d1e8f"
   },
   "outputs": [
    {
     "data": {
      "text/plain": [
       "torch.Size([12])"
      ]
     },
     "execution_count": 3,
     "metadata": {},
     "output_type": "execute_result"
    }
   ],
   "source": [
    "x.size()"
   ]
  },
  {
   "cell_type": "code",
   "execution_count": 4,
   "metadata": {
    "colab": {
     "base_uri": "https://localhost:8080/",
     "height": 71
    },
    "colab_type": "code",
    "executionInfo": {
     "elapsed": 1643,
     "status": "ok",
     "timestamp": 1599644158571,
     "user": {
      "displayName": "손재민",
      "photoUrl": "https://lh6.googleusercontent.com/-gYzH61XbODk/AAAAAAAAAAI/AAAAAAAAAJ4/pjkH85qT8RM/s64/photo.jpg",
      "userId": "01926449909610052632"
     },
     "user_tz": -540
    },
    "id": "MzlkRLMr1_iC",
    "outputId": "25d40d64-3883-4fe3-d062-3f9ac4de80f7"
   },
   "outputs": [
    {
     "data": {
      "text/plain": [
       "tensor([[ 0.,  1.,  2.,  3.],\n",
       "        [ 4.,  5.,  6.,  7.],\n",
       "        [ 8.,  9., 10., 11.]], dtype=torch.float64)"
      ]
     },
     "execution_count": 4,
     "metadata": {},
     "output_type": "execute_result"
    }
   ],
   "source": [
    "x = x.reshape((3, 4))\n",
    "x"
   ]
  },
  {
   "cell_type": "code",
   "execution_count": 5,
   "metadata": {
    "colab": {
     "base_uri": "https://localhost:8080/",
     "height": 53
    },
    "colab_type": "code",
    "executionInfo": {
     "elapsed": 1631,
     "status": "ok",
     "timestamp": 1599644158572,
     "user": {
      "displayName": "손재민",
      "photoUrl": "https://lh6.googleusercontent.com/-gYzH61XbODk/AAAAAAAAAAI/AAAAAAAAAJ4/pjkH85qT8RM/s64/photo.jpg",
      "userId": "01926449909610052632"
     },
     "user_tz": -540
    },
    "id": "B7ZpI4CG2pUb",
    "outputId": "a0f5df56-e320-429c-a6bc-6d87de92b2f4"
   },
   "outputs": [
    {
     "data": {
      "text/plain": [
       "tensor([ 0.,  1.,  2.,  3.,  4.,  5.,  6.,  7.,  8.,  9., 10., 11.],\n",
       "       dtype=torch.float64)"
      ]
     },
     "execution_count": 5,
     "metadata": {},
     "output_type": "execute_result"
    }
   ],
   "source": [
    "x.reshape(-1)"
   ]
  },
  {
   "cell_type": "code",
   "execution_count": 6,
   "metadata": {
    "colab": {
     "base_uri": "https://localhost:8080/",
     "height": 53
    },
    "colab_type": "code",
    "executionInfo": {
     "elapsed": 1621,
     "status": "ok",
     "timestamp": 1599644158572,
     "user": {
      "displayName": "손재민",
      "photoUrl": "https://lh6.googleusercontent.com/-gYzH61XbODk/AAAAAAAAAAI/AAAAAAAAAJ4/pjkH85qT8RM/s64/photo.jpg",
      "userId": "01926449909610052632"
     },
     "user_tz": -540
    },
    "id": "tpI2Zs4_2Cxc",
    "outputId": "8faf6798-0a2b-46a0-c359-be58bc950b48"
   },
   "outputs": [
    {
     "data": {
      "text/plain": [
       "tensor([[0., 0., 0.],\n",
       "        [0., 0., 0.]])"
      ]
     },
     "execution_count": 6,
     "metadata": {},
     "output_type": "execute_result"
    }
   ],
   "source": [
    "torch.FloatTensor(2, 3)"
   ]
  },
  {
   "cell_type": "code",
   "execution_count": 7,
   "metadata": {
    "colab": {
     "base_uri": "https://localhost:8080/",
     "height": 53
    },
    "colab_type": "code",
    "executionInfo": {
     "elapsed": 1611,
     "status": "ok",
     "timestamp": 1599644158573,
     "user": {
      "displayName": "손재민",
      "photoUrl": "https://lh6.googleusercontent.com/-gYzH61XbODk/AAAAAAAAAAI/AAAAAAAAAJ4/pjkH85qT8RM/s64/photo.jpg",
      "userId": "01926449909610052632"
     },
     "user_tz": -540
    },
    "id": "OSUMmxKl2G6W",
    "outputId": "d83a4e83-6aa2-46eb-a3eb-75643c557e20"
   },
   "outputs": [
    {
     "data": {
      "text/plain": [
       "tensor([[0., 0., 0.],\n",
       "        [0., 0., 0.]])"
      ]
     },
     "execution_count": 7,
     "metadata": {},
     "output_type": "execute_result"
    }
   ],
   "source": [
    "x = torch.Tensor(2, 3)\n",
    "x"
   ]
  },
  {
   "cell_type": "code",
   "execution_count": 8,
   "metadata": {
    "colab": {
     "base_uri": "https://localhost:8080/",
     "height": 35
    },
    "colab_type": "code",
    "executionInfo": {
     "elapsed": 1602,
     "status": "ok",
     "timestamp": 1599644158574,
     "user": {
      "displayName": "손재민",
      "photoUrl": "https://lh6.googleusercontent.com/-gYzH61XbODk/AAAAAAAAAAI/AAAAAAAAAJ4/pjkH85qT8RM/s64/photo.jpg",
      "userId": "01926449909610052632"
     },
     "user_tz": -540
    },
    "id": "YDIebVsI2Kg-",
    "outputId": "2e62ba8e-64c7-457b-a983-14ca03cd8164"
   },
   "outputs": [
    {
     "data": {
      "text/plain": [
       "torch.float32"
      ]
     },
     "execution_count": 8,
     "metadata": {},
     "output_type": "execute_result"
    }
   ],
   "source": [
    "x.dtype\n",
    "#Discussion : torch.Tensor automatically sets dtype as torch.float32"
   ]
  },
  {
   "cell_type": "code",
   "execution_count": 9,
   "metadata": {
    "colab": {
     "base_uri": "https://localhost:8080/",
     "height": 53
    },
    "colab_type": "code",
    "executionInfo": {
     "elapsed": 1591,
     "status": "ok",
     "timestamp": 1599644158574,
     "user": {
      "displayName": "손재민",
      "photoUrl": "https://lh6.googleusercontent.com/-gYzH61XbODk/AAAAAAAAAAI/AAAAAAAAAJ4/pjkH85qT8RM/s64/photo.jpg",
      "userId": "01926449909610052632"
     },
     "user_tz": -540
    },
    "id": "HATOD8-92YfG",
    "outputId": "f69dc75d-7d98-431e-aa14-da11069e01a3"
   },
   "outputs": [
    {
     "data": {
      "text/plain": [
       "tensor([[0., 0., 0.],\n",
       "        [0., 0., 0.]])"
      ]
     },
     "execution_count": 9,
     "metadata": {},
     "output_type": "execute_result"
    }
   ],
   "source": [
    "torch.empty(2, 3)"
   ]
  },
  {
   "cell_type": "code",
   "execution_count": 10,
   "metadata": {
    "colab": {
     "base_uri": "https://localhost:8080/",
     "height": 143
    },
    "colab_type": "code",
    "executionInfo": {
     "elapsed": 1580,
     "status": "ok",
     "timestamp": 1599644158575,
     "user": {
      "displayName": "손재민",
      "photoUrl": "https://lh6.googleusercontent.com/-gYzH61XbODk/AAAAAAAAAAI/AAAAAAAAAJ4/pjkH85qT8RM/s64/photo.jpg",
      "userId": "01926449909610052632"
     },
     "user_tz": -540
    },
    "id": "X9TwdzHA2z5v",
    "outputId": "1b4b2ddf-84e8-49e5-b928-e270d1624267"
   },
   "outputs": [
    {
     "data": {
      "text/plain": [
       "tensor([[[0., 0., 0., 0.],\n",
       "         [0., 0., 0., 0.],\n",
       "         [0., 0., 0., 0.]],\n",
       "\n",
       "        [[0., 0., 0., 0.],\n",
       "         [0., 0., 0., 0.],\n",
       "         [0., 0., 0., 0.]]])"
      ]
     },
     "execution_count": 10,
     "metadata": {},
     "output_type": "execute_result"
    }
   ],
   "source": [
    "torch.zeros((2, 3, 4))"
   ]
  },
  {
   "cell_type": "code",
   "execution_count": 11,
   "metadata": {
    "colab": {
     "base_uri": "https://localhost:8080/",
     "height": 143
    },
    "colab_type": "code",
    "executionInfo": {
     "elapsed": 1571,
     "status": "ok",
     "timestamp": 1599644158575,
     "user": {
      "displayName": "손재민",
      "photoUrl": "https://lh6.googleusercontent.com/-gYzH61XbODk/AAAAAAAAAAI/AAAAAAAAAJ4/pjkH85qT8RM/s64/photo.jpg",
      "userId": "01926449909610052632"
     },
     "user_tz": -540
    },
    "id": "N4kGJEVF281x",
    "outputId": "ff187082-3185-46b8-fd7c-eaf232bc105f"
   },
   "outputs": [
    {
     "data": {
      "text/plain": [
       "tensor([[[1., 1., 1., 1.],\n",
       "         [1., 1., 1., 1.],\n",
       "         [1., 1., 1., 1.]],\n",
       "\n",
       "        [[1., 1., 1., 1.],\n",
       "         [1., 1., 1., 1.],\n",
       "         [1., 1., 1., 1.]]])"
      ]
     },
     "execution_count": 11,
     "metadata": {},
     "output_type": "execute_result"
    }
   ],
   "source": [
    "torch.ones((2, 3, 4))"
   ]
  },
  {
   "cell_type": "code",
   "execution_count": 12,
   "metadata": {
    "colab": {
     "base_uri": "https://localhost:8080/",
     "height": 71
    },
    "colab_type": "code",
    "executionInfo": {
     "elapsed": 1562,
     "status": "ok",
     "timestamp": 1599644158576,
     "user": {
      "displayName": "손재민",
      "photoUrl": "https://lh6.googleusercontent.com/-gYzH61XbODk/AAAAAAAAAAI/AAAAAAAAAJ4/pjkH85qT8RM/s64/photo.jpg",
      "userId": "01926449909610052632"
     },
     "user_tz": -540
    },
    "id": "Q8QGSnjW2-yK",
    "outputId": "1bd6a922-4de4-4e75-831f-bce4b2e9461e"
   },
   "outputs": [
    {
     "data": {
      "text/plain": [
       "tensor([[2, 1, 4, 3],\n",
       "        [1, 2, 3, 4],\n",
       "        [4, 3, 2, 1]])"
      ]
     },
     "execution_count": 12,
     "metadata": {},
     "output_type": "execute_result"
    }
   ],
   "source": [
    "y = torch.tensor([[2, 1, 4, 3], [1, 2, 3, 4], [4, 3, 2, 1]])\n",
    "y"
   ]
  },
  {
   "cell_type": "code",
   "execution_count": 13,
   "metadata": {
    "colab": {
     "base_uri": "https://localhost:8080/",
     "height": 71
    },
    "colab_type": "code",
    "executionInfo": {
     "elapsed": 1555,
     "status": "ok",
     "timestamp": 1599644158577,
     "user": {
      "displayName": "손재민",
      "photoUrl": "https://lh6.googleusercontent.com/-gYzH61XbODk/AAAAAAAAAAI/AAAAAAAAAJ4/pjkH85qT8RM/s64/photo.jpg",
      "userId": "01926449909610052632"
     },
     "user_tz": -540
    },
    "id": "ah4DhDou3Gm6",
    "outputId": "93d94040-1b6f-4d43-9445-6804879023bb"
   },
   "outputs": [
    {
     "data": {
      "text/plain": [
       "tensor([[ 1.0964,  0.7018,  1.4894,  0.7753],\n",
       "        [-0.5210,  0.2144,  0.6634, -0.6666],\n",
       "        [ 0.0088, -0.3921, -0.6103, -0.0099]])"
      ]
     },
     "execution_count": 13,
     "metadata": {},
     "output_type": "execute_result"
    }
   ],
   "source": [
    "torch.randn(3, 4)"
   ]
  },
  {
   "cell_type": "markdown",
   "metadata": {
    "colab_type": "text",
    "id": "D0mP0U4S3WJZ"
   },
   "source": [
    "# Operations"
   ]
  },
  {
   "cell_type": "code",
   "execution_count": 14,
   "metadata": {
    "colab": {
     "base_uri": "https://localhost:8080/",
     "height": 107
    },
    "colab_type": "code",
    "executionInfo": {
     "elapsed": 1546,
     "status": "ok",
     "timestamp": 1599644158577,
     "user": {
      "displayName": "손재민",
      "photoUrl": "https://lh6.googleusercontent.com/-gYzH61XbODk/AAAAAAAAAAI/AAAAAAAAAJ4/pjkH85qT8RM/s64/photo.jpg",
      "userId": "01926449909610052632"
     },
     "user_tz": -540
    },
    "id": "sj4F5bcx3arv",
    "outputId": "715fbe34-62cd-4c70-f235-9de8cfa10c1a"
   },
   "outputs": [
    {
     "name": "stdout",
     "output_type": "stream",
     "text": [
      "x = tensor([1., 2., 4., 8.])\n",
      "x + y tensor([ 3.,  4.,  6., 10.])\n",
      "x - y tensor([-1.,  0.,  2.,  6.])\n",
      "x * y tensor([ 2.,  4.,  8., 16.])\n",
      "x / y tensor([0.5000, 1.0000, 2.0000, 4.0000])\n"
     ]
    }
   ],
   "source": [
    "x = torch.tensor([1, 2, 4, 8], dtype=torch.float32)\n",
    "y = torch.ones_like(x) * 2\n",
    "#Discussion : ones_like() makes a matrix with same size but filled with ones\n",
    "print('x =', x)\n",
    "print('x + y', x + y)\n",
    "print('x - y', x - y)\n",
    "print('x * y', x * y)\n",
    "print('x / y', x / y)"
   ]
  },
  {
   "cell_type": "code",
   "execution_count": 15,
   "metadata": {
    "colab": {
     "base_uri": "https://localhost:8080/",
     "height": 35
    },
    "colab_type": "code",
    "executionInfo": {
     "elapsed": 1538,
     "status": "ok",
     "timestamp": 1599644158578,
     "user": {
      "displayName": "손재민",
      "photoUrl": "https://lh6.googleusercontent.com/-gYzH61XbODk/AAAAAAAAAAI/AAAAAAAAAJ4/pjkH85qT8RM/s64/photo.jpg",
      "userId": "01926449909610052632"
     },
     "user_tz": -540
    },
    "id": "bemf-jrb4Rit",
    "outputId": "3f7f2b89-8ddc-436e-d3ce-c429ff428152"
   },
   "outputs": [
    {
     "data": {
      "text/plain": [
       "tensor([2.7183e+00, 7.3891e+00, 5.4598e+01, 2.9810e+03])"
      ]
     },
     "execution_count": 15,
     "metadata": {},
     "output_type": "execute_result"
    }
   ],
   "source": [
    "torch.exp(x)"
   ]
  },
  {
   "cell_type": "code",
   "execution_count": 16,
   "metadata": {
    "colab": {
     "base_uri": "https://localhost:8080/",
     "height": 143
    },
    "colab_type": "code",
    "executionInfo": {
     "elapsed": 1529,
     "status": "ok",
     "timestamp": 1599644158579,
     "user": {
      "displayName": "손재민",
      "photoUrl": "https://lh6.googleusercontent.com/-gYzH61XbODk/AAAAAAAAAAI/AAAAAAAAAJ4/pjkH85qT8RM/s64/photo.jpg",
      "userId": "01926449909610052632"
     },
     "user_tz": -540
    },
    "id": "pwcoc8_Y4WQy",
    "outputId": "411581b1-071d-4c16-e4d6-2dc5978d43d8"
   },
   "outputs": [
    {
     "name": "stdout",
     "output_type": "stream",
     "text": [
      "torch.float32\n",
      "tensor([[2., 1., 4., 3.],\n",
      "        [1., 2., 3., 4.],\n",
      "        [4., 3., 2., 1.]])\n"
     ]
    },
    {
     "data": {
      "text/plain": [
       "tensor([[ 18.,  20.,  10.],\n",
       "        [ 58.,  60.,  50.],\n",
       "        [ 98., 100.,  90.]])"
      ]
     },
     "execution_count": 16,
     "metadata": {},
     "output_type": "execute_result"
    }
   ],
   "source": [
    "x = torch.arange(12, dtype=torch.float32).reshape((3, 4))\n",
    "y = torch.tensor([[2, 1, 4, 3], [1, 2, 3, 4], [4, 3, 2, 1]], dtype=torch.float32)\n",
    "print(x.dtype)\n",
    "print(y)\n",
    "torch.mm(x, y.t())\n",
    "#Discussion : t() makes transpose matrix"
   ]
  },
  {
   "cell_type": "code",
   "execution_count": 17,
   "metadata": {
    "colab": {
     "base_uri": "https://localhost:8080/",
     "height": 35
    },
    "colab_type": "code",
    "executionInfo": {
     "elapsed": 1521,
     "status": "ok",
     "timestamp": 1599644158579,
     "user": {
      "displayName": "손재민",
      "photoUrl": "https://lh6.googleusercontent.com/-gYzH61XbODk/AAAAAAAAAAI/AAAAAAAAAJ4/pjkH85qT8RM/s64/photo.jpg",
      "userId": "01926449909610052632"
     },
     "user_tz": -540
    },
    "id": "Y8C1zoLF6SDa",
    "outputId": "a5d4c1f2-0e6d-4128-be51-f13952d78273"
   },
   "outputs": [
    {
     "data": {
      "text/plain": [
       "tensor(168.)"
      ]
     },
     "execution_count": 17,
     "metadata": {},
     "output_type": "execute_result"
    }
   ],
   "source": [
    "torch.dot(x.reshape(-1), y.reshape(-1))\n",
    "#Discussion : torch.dot() requires one-dimensional vector"
   ]
  },
  {
   "cell_type": "code",
   "execution_count": 18,
   "metadata": {
    "colab": {
     "base_uri": "https://localhost:8080/",
     "height": 125
    },
    "colab_type": "code",
    "executionInfo": {
     "elapsed": 1513,
     "status": "ok",
     "timestamp": 1599644158580,
     "user": {
      "displayName": "손재민",
      "photoUrl": "https://lh6.googleusercontent.com/-gYzH61XbODk/AAAAAAAAAAI/AAAAAAAAAJ4/pjkH85qT8RM/s64/photo.jpg",
      "userId": "01926449909610052632"
     },
     "user_tz": -540
    },
    "id": "WnC62wp-7EeG",
    "outputId": "46aa2ac9-8178-45eb-ab5d-5c261de205dd"
   },
   "outputs": [
    {
     "data": {
      "text/plain": [
       "tensor([[ 0.,  1.,  2.,  3.],\n",
       "        [ 4.,  5.,  6.,  7.],\n",
       "        [ 8.,  9., 10., 11.],\n",
       "        [ 2.,  1.,  4.,  3.],\n",
       "        [ 1.,  2.,  3.,  4.],\n",
       "        [ 4.,  3.,  2.,  1.]])"
      ]
     },
     "execution_count": 18,
     "metadata": {},
     "output_type": "execute_result"
    }
   ],
   "source": [
    "torch.cat((x, y), dim=0)"
   ]
  },
  {
   "cell_type": "code",
   "execution_count": 19,
   "metadata": {
    "colab": {
     "base_uri": "https://localhost:8080/",
     "height": 71
    },
    "colab_type": "code",
    "executionInfo": {
     "elapsed": 1492,
     "status": "ok",
     "timestamp": 1599644158580,
     "user": {
      "displayName": "손재민",
      "photoUrl": "https://lh6.googleusercontent.com/-gYzH61XbODk/AAAAAAAAAAI/AAAAAAAAAJ4/pjkH85qT8RM/s64/photo.jpg",
      "userId": "01926449909610052632"
     },
     "user_tz": -540
    },
    "id": "YbW2zhlj7H4E",
    "outputId": "dbdb4d26-a515-49c4-f06c-7ebc4ab55d8c"
   },
   "outputs": [
    {
     "data": {
      "text/plain": [
       "tensor([[ 0.,  1.,  2.,  3.,  2.,  1.,  4.,  3.],\n",
       "        [ 4.,  5.,  6.,  7.,  1.,  2.,  3.,  4.],\n",
       "        [ 8.,  9., 10., 11.,  4.,  3.,  2.,  1.]])"
      ]
     },
     "execution_count": 19,
     "metadata": {},
     "output_type": "execute_result"
    }
   ],
   "source": [
    "torch.cat((x, y), dim=1)"
   ]
  },
  {
   "cell_type": "code",
   "execution_count": 20,
   "metadata": {
    "colab": {
     "base_uri": "https://localhost:8080/",
     "height": 71
    },
    "colab_type": "code",
    "executionInfo": {
     "elapsed": 1473,
     "status": "ok",
     "timestamp": 1599644158581,
     "user": {
      "displayName": "손재민",
      "photoUrl": "https://lh6.googleusercontent.com/-gYzH61XbODk/AAAAAAAAAAI/AAAAAAAAAJ4/pjkH85qT8RM/s64/photo.jpg",
      "userId": "01926449909610052632"
     },
     "user_tz": -540
    },
    "id": "1HM_Pd8l7I3_",
    "outputId": "73cab9dd-6dd8-4031-b577-f94398ae5c81"
   },
   "outputs": [
    {
     "data": {
      "text/plain": [
       "tensor([[False,  True, False,  True],\n",
       "        [False, False, False, False],\n",
       "        [False, False, False, False]])"
      ]
     },
     "execution_count": 20,
     "metadata": {},
     "output_type": "execute_result"
    }
   ],
   "source": [
    "x == y"
   ]
  },
  {
   "cell_type": "code",
   "execution_count": 21,
   "metadata": {
    "colab": {
     "base_uri": "https://localhost:8080/",
     "height": 35
    },
    "colab_type": "code",
    "executionInfo": {
     "elapsed": 1460,
     "status": "ok",
     "timestamp": 1599644158582,
     "user": {
      "displayName": "손재민",
      "photoUrl": "https://lh6.googleusercontent.com/-gYzH61XbODk/AAAAAAAAAAI/AAAAAAAAAJ4/pjkH85qT8RM/s64/photo.jpg",
      "userId": "01926449909610052632"
     },
     "user_tz": -540
    },
    "id": "FTA1wHxo8KnQ",
    "outputId": "0f2e698f-1ecf-4fe8-befa-985bd637b2e6"
   },
   "outputs": [
    {
     "data": {
      "text/plain": [
       "tensor(66.)"
      ]
     },
     "execution_count": 21,
     "metadata": {},
     "output_type": "execute_result"
    }
   ],
   "source": [
    "x.sum()"
   ]
  },
  {
   "cell_type": "code",
   "execution_count": 22,
   "metadata": {
    "colab": {
     "base_uri": "https://localhost:8080/",
     "height": 91
    },
    "colab_type": "code",
    "executionInfo": {
     "elapsed": 1449,
     "status": "ok",
     "timestamp": 1599644158582,
     "user": {
      "displayName": "손재민",
      "photoUrl": "https://lh6.googleusercontent.com/-gYzH61XbODk/AAAAAAAAAAI/AAAAAAAAAJ4/pjkH85qT8RM/s64/photo.jpg",
      "userId": "01926449909610052632"
     },
     "user_tz": -540
    },
    "id": "Why2HvTj8MQo",
    "outputId": "0be11d94-3b1c-4c7a-f3e1-229fb703dcaa"
   },
   "outputs": [
    {
     "name": "stderr",
     "output_type": "stream",
     "text": [
      "c:\\users\\jasson31\\appdata\\local\\programs\\python\\python36\\lib\\site-packages\\ipykernel_launcher.py:2: DeprecationWarning: np.asscalar(a) is deprecated since NumPy v1.16, use a.item() instead\n",
      "  \n"
     ]
    },
    {
     "data": {
      "text/plain": [
       "22.494443893432617"
      ]
     },
     "execution_count": 22,
     "metadata": {},
     "output_type": "execute_result"
    }
   ],
   "source": [
    "import numpy as np\n",
    "np.asscalar(x.norm())"
   ]
  },
  {
   "cell_type": "markdown",
   "metadata": {
    "colab_type": "text",
    "id": "3l3i8k-18Wjq"
   },
   "source": [
    "# Broadcast Mechanism"
   ]
  },
  {
   "cell_type": "code",
   "execution_count": 23,
   "metadata": {
    "colab": {
     "base_uri": "https://localhost:8080/",
     "height": 71
    },
    "colab_type": "code",
    "executionInfo": {
     "elapsed": 1441,
     "status": "ok",
     "timestamp": 1599644158583,
     "user": {
      "displayName": "손재민",
      "photoUrl": "https://lh6.googleusercontent.com/-gYzH61XbODk/AAAAAAAAAAI/AAAAAAAAAJ4/pjkH85qT8RM/s64/photo.jpg",
      "userId": "01926449909610052632"
     },
     "user_tz": -540
    },
    "id": "rHR3L91g8bCr",
    "outputId": "92cb0a9c-ec31-4479-af92-c58919f9ae98"
   },
   "outputs": [
    {
     "data": {
      "text/plain": [
       "(tensor([[0.],\n",
       "         [1.],\n",
       "         [2.]]),\n",
       " tensor([[0., 1.]]))"
      ]
     },
     "execution_count": 23,
     "metadata": {},
     "output_type": "execute_result"
    }
   ],
   "source": [
    "a = torch.arange(3, dtype=torch.float).reshape((3, 1))\n",
    "b = torch.arange(2, dtype=torch.float).reshape((1, 2))\n",
    "a, b"
   ]
  },
  {
   "cell_type": "code",
   "execution_count": 24,
   "metadata": {
    "colab": {
     "base_uri": "https://localhost:8080/",
     "height": 71
    },
    "colab_type": "code",
    "executionInfo": {
     "elapsed": 1432,
     "status": "ok",
     "timestamp": 1599644158583,
     "user": {
      "displayName": "손재민",
      "photoUrl": "https://lh6.googleusercontent.com/-gYzH61XbODk/AAAAAAAAAAI/AAAAAAAAAJ4/pjkH85qT8RM/s64/photo.jpg",
      "userId": "01926449909610052632"
     },
     "user_tz": -540
    },
    "id": "Q0EGQBHi9CgP",
    "outputId": "7e17ac73-9dcb-4499-806b-72814333ff3e"
   },
   "outputs": [
    {
     "data": {
      "text/plain": [
       "tensor([[0., 1.],\n",
       "        [1., 2.],\n",
       "        [2., 3.]])"
      ]
     },
     "execution_count": 24,
     "metadata": {},
     "output_type": "execute_result"
    }
   ],
   "source": [
    "a + b"
   ]
  },
  {
   "cell_type": "markdown",
   "metadata": {
    "colab_type": "text",
    "id": "lNfXL6yq9I0Q"
   },
   "source": [
    "# Indexing and Slicing"
   ]
  },
  {
   "cell_type": "code",
   "execution_count": 25,
   "metadata": {
    "colab": {
     "base_uri": "https://localhost:8080/",
     "height": 53
    },
    "colab_type": "code",
    "executionInfo": {
     "elapsed": 1424,
     "status": "ok",
     "timestamp": 1599644158584,
     "user": {
      "displayName": "손재민",
      "photoUrl": "https://lh6.googleusercontent.com/-gYzH61XbODk/AAAAAAAAAAI/AAAAAAAAAJ4/pjkH85qT8RM/s64/photo.jpg",
      "userId": "01926449909610052632"
     },
     "user_tz": -540
    },
    "id": "ZKVk44my9Ff0",
    "outputId": "11cb694e-3c45-4745-e681-8f338be58ad7"
   },
   "outputs": [
    {
     "data": {
      "text/plain": [
       "tensor([[ 4.,  5.,  6.,  7.],\n",
       "        [ 8.,  9., 10., 11.]])"
      ]
     },
     "execution_count": 25,
     "metadata": {},
     "output_type": "execute_result"
    }
   ],
   "source": [
    "x[1:3]"
   ]
  },
  {
   "cell_type": "code",
   "execution_count": 26,
   "metadata": {
    "colab": {
     "base_uri": "https://localhost:8080/",
     "height": 71
    },
    "colab_type": "code",
    "executionInfo": {
     "elapsed": 1415,
     "status": "ok",
     "timestamp": 1599644158584,
     "user": {
      "displayName": "손재민",
      "photoUrl": "https://lh6.googleusercontent.com/-gYzH61XbODk/AAAAAAAAAAI/AAAAAAAAAJ4/pjkH85qT8RM/s64/photo.jpg",
      "userId": "01926449909610052632"
     },
     "user_tz": -540
    },
    "id": "9RJpqe8m9brY",
    "outputId": "4e1bcb54-d330-4ea1-965b-ace70eefd02e"
   },
   "outputs": [
    {
     "data": {
      "text/plain": [
       "tensor([[ 0.,  1.,  2.,  3.],\n",
       "        [ 4.,  5.,  9.,  7.],\n",
       "        [ 8.,  9., 10., 11.]])"
      ]
     },
     "execution_count": 26,
     "metadata": {},
     "output_type": "execute_result"
    }
   ],
   "source": [
    "x[1, 2] = 9\n",
    "x"
   ]
  },
  {
   "cell_type": "code",
   "execution_count": 27,
   "metadata": {
    "colab": {
     "base_uri": "https://localhost:8080/",
     "height": 71
    },
    "colab_type": "code",
    "executionInfo": {
     "elapsed": 1408,
     "status": "ok",
     "timestamp": 1599644158585,
     "user": {
      "displayName": "손재민",
      "photoUrl": "https://lh6.googleusercontent.com/-gYzH61XbODk/AAAAAAAAAAI/AAAAAAAAAJ4/pjkH85qT8RM/s64/photo.jpg",
      "userId": "01926449909610052632"
     },
     "user_tz": -540
    },
    "id": "K1k4pgDx9d6N",
    "outputId": "c1ec3498-d352-4321-9035-904a5eb755b6"
   },
   "outputs": [
    {
     "data": {
      "text/plain": [
       "tensor([[12., 12., 12., 12.],\n",
       "        [12., 12., 12., 12.],\n",
       "        [ 8.,  9., 10., 11.]])"
      ]
     },
     "execution_count": 27,
     "metadata": {},
     "output_type": "execute_result"
    }
   ],
   "source": [
    "x[0:2, :] = 12\n",
    "x"
   ]
  },
  {
   "cell_type": "markdown",
   "metadata": {
    "colab_type": "text",
    "id": "y0mUcM7p9jZ5"
   },
   "source": [
    "# Saving Memory"
   ]
  },
  {
   "cell_type": "code",
   "execution_count": 28,
   "metadata": {
    "colab": {
     "base_uri": "https://localhost:8080/",
     "height": 35
    },
    "colab_type": "code",
    "executionInfo": {
     "elapsed": 1398,
     "status": "ok",
     "timestamp": 1599644158585,
     "user": {
      "displayName": "손재민",
      "photoUrl": "https://lh6.googleusercontent.com/-gYzH61XbODk/AAAAAAAAAAI/AAAAAAAAAJ4/pjkH85qT8RM/s64/photo.jpg",
      "userId": "01926449909610052632"
     },
     "user_tz": -540
    },
    "id": "NpZTmFtn9i34",
    "outputId": "9c04b2d5-52b4-424c-a04a-fa8fd8127ced"
   },
   "outputs": [
    {
     "data": {
      "text/plain": [
       "False"
      ]
     },
     "execution_count": 28,
     "metadata": {},
     "output_type": "execute_result"
    }
   ],
   "source": [
    "before = id(y)\n",
    "y = y + x\n",
    "id(y) == before"
   ]
  },
  {
   "cell_type": "code",
   "execution_count": 29,
   "metadata": {
    "colab": {
     "base_uri": "https://localhost:8080/",
     "height": 53
    },
    "colab_type": "code",
    "executionInfo": {
     "elapsed": 1390,
     "status": "ok",
     "timestamp": 1599644158586,
     "user": {
      "displayName": "손재민",
      "photoUrl": "https://lh6.googleusercontent.com/-gYzH61XbODk/AAAAAAAAAAI/AAAAAAAAAJ4/pjkH85qT8RM/s64/photo.jpg",
      "userId": "01926449909610052632"
     },
     "user_tz": -540
    },
    "id": "x5FXs2dV96DS",
    "outputId": "6e191a6e-ba24-4377-fee9-f3e0daa25754"
   },
   "outputs": [
    {
     "name": "stdout",
     "output_type": "stream",
     "text": [
      "id(z): 2782505350704\n",
      "id(z): 2782505350704\n"
     ]
    }
   ],
   "source": [
    "z = torch.zeros_like(y)\n",
    "print('id(z):', id(z))\n",
    "z[:] = x + y\n",
    "print('id(z):', id(z))"
   ]
  },
  {
   "cell_type": "code",
   "execution_count": 30,
   "metadata": {
    "colab": {
     "base_uri": "https://localhost:8080/",
     "height": 35
    },
    "colab_type": "code",
    "executionInfo": {
     "elapsed": 645,
     "status": "ok",
     "timestamp": 1599644348312,
     "user": {
      "displayName": "손재민",
      "photoUrl": "https://lh6.googleusercontent.com/-gYzH61XbODk/AAAAAAAAAAI/AAAAAAAAAJ4/pjkH85qT8RM/s64/photo.jpg",
      "userId": "01926449909610052632"
     },
     "user_tz": -540
    },
    "id": "YzcllRaaO2j7",
    "outputId": "74d18635-a0fe-4848-996f-55f648bf67c7"
   },
   "outputs": [
    {
     "data": {
      "text/plain": [
       "True"
      ]
     },
     "execution_count": 30,
     "metadata": {},
     "output_type": "execute_result"
    }
   ],
   "source": [
    "before = id(z)\n",
    "torch.add(x, y, out=z)\n",
    "id(z) == before"
   ]
  },
  {
   "cell_type": "markdown",
   "metadata": {
    "colab_type": "text",
    "id": "4elDZAzfO9FZ"
   },
   "source": [
    "# Mutual Transformation of PyTorch and NumPy"
   ]
  },
  {
   "cell_type": "code",
   "execution_count": 31,
   "metadata": {
    "colab": {
     "base_uri": "https://localhost:8080/",
     "height": 53
    },
    "colab_type": "code",
    "executionInfo": {
     "elapsed": 615,
     "status": "ok",
     "timestamp": 1599644392544,
     "user": {
      "displayName": "손재민",
      "photoUrl": "https://lh6.googleusercontent.com/-gYzH61XbODk/AAAAAAAAAAI/AAAAAAAAAJ4/pjkH85qT8RM/s64/photo.jpg",
      "userId": "01926449909610052632"
     },
     "user_tz": -540
    },
    "id": "QNfB9QIZPAPw",
    "outputId": "63dfe98c-bf48-474a-aa71-4f84f0c4d81c"
   },
   "outputs": [
    {
     "name": "stdout",
     "output_type": "stream",
     "text": [
      "<class 'numpy.ndarray'>\n",
      "<class 'torch.Tensor'>\n"
     ]
    }
   ],
   "source": [
    "a = x.numpy()\n",
    "print(type(a))\n",
    "b = torch.tensor(a)\n",
    "print(type(b))"
   ]
  },
  {
   "cell_type": "markdown",
   "metadata": {},
   "source": [
    "# Discussion\n",
    "1. torch.Tensor automatically sets dtype as torch.float32\n",
    "2. ones_like() makes a matrix with same size but filled with ones\n",
    "3. t() makes transpose matrix\n",
    "4. torch.dot() requires one-dimensional vector"
   ]
  }
 ],
 "metadata": {
  "colab": {
   "authorship_tag": "ABX9TyOcB/7OzyBDo8MOXCpMf/mV",
   "collapsed_sections": [],
   "name": "ch4.1.ipynb",
   "provenance": []
  },
  "kernelspec": {
   "display_name": "Python 3",
   "language": "python",
   "name": "python3"
  },
  "language_info": {
   "codemirror_mode": {
    "name": "ipython",
    "version": 3
   },
   "file_extension": ".py",
   "mimetype": "text/x-python",
   "name": "python",
   "nbconvert_exporter": "python",
   "pygments_lexer": "ipython3",
   "version": "3.6.8"
  }
 },
 "nbformat": 4,
 "nbformat_minor": 1
}
